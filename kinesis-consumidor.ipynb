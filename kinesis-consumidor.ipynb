{
 "cells": [
  {
   "cell_type": "code",
   "execution_count": 1,
   "metadata": {},
   "outputs": [],
   "source": [
    "import boto3"
   ]
  },
  {
   "cell_type": "code",
   "execution_count": 2,
   "metadata": {},
   "outputs": [
    {
     "name": "stdout",
     "output_type": "stream",
     "text": [
      "Conexão estabelecida com sucesso!\n"
     ]
    }
   ],
   "source": [
    "try:\n",
    "    cliente = boto3.client('kinesis', region_name=\"sa-east-1\")\n",
    "    print(\"Conexão estabelecida com sucesso!\")\n",
    "except Exception as e:\n",
    "    print(\"Erro ao conectar ao RDS:\", e)"
   ]
  },
  {
   "cell_type": "code",
   "execution_count": null,
   "metadata": {},
   "outputs": [],
   "source": [
    "shard = cliente.get_shard_iterator(\n",
    "    StreamName=\"roots_teste_01\",\n",
    "    ShardId='shardId-000000000002',\n",
    "    ShardIteratorType='LATEST',\n",
    ")[\"ShardIterator\"]\n",
    "\n",
    "# faz a conexão e fica escutando a transmissão de dados.\n",
    "while shard is not None:\n",
    "  resultado = cliente.get_records(ShardIterator=shard)\n",
    "  registros = resultado['Records']\n",
    "  shard = resultado[\"NextShardIterator\"]\n",
    "  for registro in registros:\n",
    "    print(registro[\"SequenceNumber\"])\n",
    "    print(registro[\"ApproximateArrivalTimestamp\"])\n",
    "    print(registro[\"PartitionKey\"])\n",
    "    print(registro[\"Data\"])  "
   ]
  }
 ],
 "metadata": {
  "kernelspec": {
   "display_name": ".venv",
   "language": "python",
   "name": "python3"
  },
  "language_info": {
   "codemirror_mode": {
    "name": "ipython",
    "version": 3
   },
   "file_extension": ".py",
   "mimetype": "text/x-python",
   "name": "python",
   "nbconvert_exporter": "python",
   "pygments_lexer": "ipython3",
   "version": "3.11.8"
  }
 },
 "nbformat": 4,
 "nbformat_minor": 2
}
