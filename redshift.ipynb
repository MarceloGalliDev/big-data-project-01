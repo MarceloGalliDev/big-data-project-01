{
 "cells": [
  {
   "cell_type": "code",
   "execution_count": 1,
   "metadata": {},
   "outputs": [],
   "source": [
    "import psycopg2"
   ]
  },
  {
   "cell_type": "code",
   "execution_count": 2,
   "metadata": {},
   "outputs": [
    {
     "name": "stdout",
     "output_type": "stream",
     "text": [
      "Erro ao conectar ao Redshift: connection to server at \"redshift-dev-test.civibtyftsj7.sa-east-1.redshift.amazonaws.com\" (15.229.228.73), port 5439 failed: Operation timed out\n",
      "\tIs the server running on that host and accepting TCP/IP connections?\n",
      "\n"
     ]
    }
   ],
   "source": [
    "# Substitua pelos seus detalhes de conexão\n",
    "host = \"redshift-dev-test.civibtyftsj7.sa-east-1.redshift.amazonaws.com\"\n",
    "dbname = \"ed\"\n",
    "user = \"marcelogalli\"\n",
    "password = \"Mm1432654425\"\n",
    "port = \"5439\"\n",
    "\n",
    "try:\n",
    "    conn = psycopg2.connect(\n",
    "        dbname=dbname,\n",
    "        user=user,\n",
    "        password=password,\n",
    "        host=host,\n",
    "        port=port\n",
    "    )\n",
    "    print(\"Conexão estabelecida com sucesso!\")\n",
    "except Exception as e:\n",
    "    print(\"Erro ao conectar ao Redshift:\", e)\n"
   ]
  }
 ],
 "metadata": {
  "kernelspec": {
   "display_name": ".venv",
   "language": "python",
   "name": "python3"
  },
  "language_info": {
   "codemirror_mode": {
    "name": "ipython",
    "version": 3
   },
   "file_extension": ".py",
   "mimetype": "text/x-python",
   "name": "python",
   "nbconvert_exporter": "python",
   "pygments_lexer": "ipython3",
   "version": "3.11.6"
  }
 },
 "nbformat": 4,
 "nbformat_minor": 2
}
