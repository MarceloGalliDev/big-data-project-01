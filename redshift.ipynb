{
 "cells": [
  {
   "cell_type": "code",
   "execution_count": 13,
   "metadata": {},
   "outputs": [],
   "source": [
    "import redshift_connector\n",
    "import numpy\n",
    "import psycopg2"
   ]
  },
  {
   "cell_type": "code",
   "execution_count": 18,
   "metadata": {},
   "outputs": [
    {
     "name": "stdout",
     "output_type": "stream",
     "text": [
      "Mma1432654425\n",
      "Conexão estabelecida com sucesso!\n"
     ]
    }
   ],
   "source": [
    "# Substitua pelos seus detalhes de conexão\n",
    "host = \"redshift-dev-test.civibtyftsj7.sa-east-1.redshift.amazonaws.com\"\n",
    "dbname = \"ed\"\n",
    "user = \"marcelogalli\"\n",
    "password = \"\"\n",
    "port = \"5439\"\n",
    "\n",
    "\n",
    "try:\n",
    "    conn = psycopg2.connect(\n",
    "        dbname=dbname,\n",
    "        user=user,\n",
    "        password=password,\n",
    "        host=host,\n",
    "        port=port\n",
    "    )\n",
    "    print(password)\n",
    "    print(\"Conexão estabelecida com sucesso!\")\n",
    "except Exception as e:\n",
    "    print(\"Erro ao conectar ao Redshift:\", e)\n"
   ]
  }
 ],
 "metadata": {
  "kernelspec": {
   "display_name": ".venv",
   "language": "python",
   "name": "python3"
  },
  "language_info": {
   "codemirror_mode": {
    "name": "ipython",
    "version": 3
   },
   "file_extension": ".py",
   "mimetype": "text/x-python",
   "name": "python",
   "nbconvert_exporter": "python",
   "pygments_lexer": "ipython3",
   "version": "3.11.8"
  }
 },
 "nbformat": 4,
 "nbformat_minor": 2
}
